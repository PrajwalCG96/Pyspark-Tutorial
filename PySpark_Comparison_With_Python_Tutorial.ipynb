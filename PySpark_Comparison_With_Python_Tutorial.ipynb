{
 "cells": [
  {
   "cell_type": "markdown",
   "id": "13dfc562",
   "metadata": {},
   "source": [
    "\n",
    "# PySpark Comprehensive EDA and Data Preprocessing Tutorial\n",
    "\n",
    "This notebook provides a comprehensive guide to data preprocessing and filtering using PySpark. It also compares PySpark functions with equivalent Python code using Pandas.\n",
    "\n",
    "**Steps covered:**\n",
    "1. Initial data checks\n",
    "2. Data cleaning and transformation\n",
    "3. Filtering data and Running SQL\n",
    "4. Comparison of PySpark with Python (Pandas)\n"
   ]
  },
  {
   "cell_type": "code",
   "execution_count": 21,
   "id": "636803e7",
   "metadata": {},
   "outputs": [],
   "source": [
    "\n",
    "# Importing Required Libraries\n",
    "from pyspark.sql import SparkSession\n",
    "from pyspark.sql.functions import col, isnull, when, count, mean, stddev, min, max, skewness, kurtosis\n",
    "from pyspark.sql.types import IntegerType, DoubleType\n",
    "import pandas as pd\n",
    "import numpy as np"
   ]
  },
  {
   "cell_type": "code",
   "execution_count": 6,
   "id": "ef155d43",
   "metadata": {},
   "outputs": [
    {
     "name": "stderr",
     "output_type": "stream",
     "text": [
      "24/08/14 05:14:13 WARN Utils: Your hostname, codespaces-78980c resolves to a loopback address: 127.0.0.1; using 10.0.0.173 instead (on interface eth0)\n",
      "24/08/14 05:14:13 WARN Utils: Set SPARK_LOCAL_IP if you need to bind to another address\n",
      "Setting default log level to \"WARN\".\n",
      "To adjust logging level use sc.setLogLevel(newLevel). For SparkR, use setLogLevel(newLevel).\n",
      "24/08/14 05:14:14 WARN NativeCodeLoader: Unable to load native-hadoop library for your platform... using builtin-java classes where applicable\n"
     ]
    },
    {
     "name": "stderr",
     "output_type": "stream",
     "text": [
      "24/08/14 05:14:26 WARN GarbageCollectionMetrics: To enable non-built-in garbage collector(s) List(G1 Concurrent GC), users should configure it(them) to spark.eventLog.gcMetrics.youngGenerationGarbageCollectors or spark.eventLog.gcMetrics.oldGenerationGarbageCollectors\n"
     ]
    }
   ],
   "source": [
    "\n",
    "# Initializing Spark Session\n",
    "spark = SparkSession.builder.appName(\"PySpark Comprehensive EDA\").getOrCreate()\n"
   ]
  },
  {
   "cell_type": "code",
   "execution_count": 50,
   "id": "3881e2c1",
   "metadata": {},
   "outputs": [
    {
     "name": "stdout",
     "output_type": "stream",
     "text": [
      "+--------+---+-----------+------+\n",
      "|    name|age|       city|salary|\n",
      "+--------+---+-----------+------+\n",
      "|John Doe| 28|   New York| 70000|\n",
      "|Jane Doe| 34|Los Angeles| 80000|\n",
      "|   Alice| 23|    Chicago| 65000|\n",
      "|     Bob| 45|   New York| 90000|\n",
      "| Charlie| 35|    Chicago| 75000|\n",
      "|   David| 38|Los Angeles| 85000|\n",
      "|  Edward| 42|   New York| 95000|\n",
      "|   Fiona| 30|    Chicago| 72000|\n",
      "+--------+---+-----------+------+\n",
      "\n"
     ]
    },
    {
     "data": {
      "text/html": [
       "<div>\n",
       "<style scoped>\n",
       "    .dataframe tbody tr th:only-of-type {\n",
       "        vertical-align: middle;\n",
       "    }\n",
       "\n",
       "    .dataframe tbody tr th {\n",
       "        vertical-align: top;\n",
       "    }\n",
       "\n",
       "    .dataframe thead th {\n",
       "        text-align: right;\n",
       "    }\n",
       "</style>\n",
       "<table border=\"1\" class=\"dataframe\">\n",
       "  <thead>\n",
       "    <tr style=\"text-align: right;\">\n",
       "      <th></th>\n",
       "      <th>name</th>\n",
       "      <th>age</th>\n",
       "      <th>city</th>\n",
       "      <th>salary</th>\n",
       "    </tr>\n",
       "  </thead>\n",
       "  <tbody>\n",
       "    <tr>\n",
       "      <th>0</th>\n",
       "      <td>John Doe</td>\n",
       "      <td>28</td>\n",
       "      <td>New York</td>\n",
       "      <td>70000</td>\n",
       "    </tr>\n",
       "    <tr>\n",
       "      <th>1</th>\n",
       "      <td>Jane Doe</td>\n",
       "      <td>34</td>\n",
       "      <td>Los Angeles</td>\n",
       "      <td>80000</td>\n",
       "    </tr>\n",
       "    <tr>\n",
       "      <th>2</th>\n",
       "      <td>Alice</td>\n",
       "      <td>23</td>\n",
       "      <td>Chicago</td>\n",
       "      <td>65000</td>\n",
       "    </tr>\n",
       "    <tr>\n",
       "      <th>3</th>\n",
       "      <td>Bob</td>\n",
       "      <td>45</td>\n",
       "      <td>New York</td>\n",
       "      <td>90000</td>\n",
       "    </tr>\n",
       "    <tr>\n",
       "      <th>4</th>\n",
       "      <td>Charlie</td>\n",
       "      <td>35</td>\n",
       "      <td>Chicago</td>\n",
       "      <td>75000</td>\n",
       "    </tr>\n",
       "    <tr>\n",
       "      <th>5</th>\n",
       "      <td>David</td>\n",
       "      <td>38</td>\n",
       "      <td>Los Angeles</td>\n",
       "      <td>85000</td>\n",
       "    </tr>\n",
       "    <tr>\n",
       "      <th>6</th>\n",
       "      <td>Edward</td>\n",
       "      <td>42</td>\n",
       "      <td>New York</td>\n",
       "      <td>95000</td>\n",
       "    </tr>\n",
       "    <tr>\n",
       "      <th>7</th>\n",
       "      <td>Fiona</td>\n",
       "      <td>30</td>\n",
       "      <td>Chicago</td>\n",
       "      <td>72000</td>\n",
       "    </tr>\n",
       "  </tbody>\n",
       "</table>\n",
       "</div>"
      ],
      "text/plain": [
       "       name  age         city  salary\n",
       "0  John Doe   28     New York   70000\n",
       "1  Jane Doe   34  Los Angeles   80000\n",
       "2     Alice   23      Chicago   65000\n",
       "3       Bob   45     New York   90000\n",
       "4   Charlie   35      Chicago   75000\n",
       "5     David   38  Los Angeles   85000\n",
       "6    Edward   42     New York   95000\n",
       "7     Fiona   30      Chicago   72000"
      ]
     },
     "execution_count": 50,
     "metadata": {},
     "output_type": "execute_result"
    }
   ],
   "source": [
    "\n",
    "# Loading the Data (PySpark and Pandas)\n",
    "file_path = \"sample_data.csv\"\n",
    "df_spark = spark.read.csv(file_path, header=True, inferSchema=True)\n",
    "df_pandas = pd.read_csv(file_path)\n",
    "df_spark.show()\n",
    "df_pandas\n"
   ]
  },
  {
   "cell_type": "markdown",
   "id": "eace6eed",
   "metadata": {},
   "source": [
    "\n",
    "# 1. Initial Data Checks"
   ]
  },
  {
   "cell_type": "code",
   "execution_count": 10,
   "id": "976a3ba8",
   "metadata": {},
   "outputs": [
    {
     "name": "stdout",
     "output_type": "stream",
     "text": [
      "root\n",
      " |-- name: string (nullable = true)\n",
      " |-- age: integer (nullable = true)\n",
      " |-- city: string (nullable = true)\n",
      " |-- salary: integer (nullable = true)\n",
      "\n",
      "name      object\n",
      "age        int64\n",
      "city      object\n",
      "salary     int64\n",
      "dtype: object\n"
     ]
    }
   ],
   "source": [
    "\n",
    "\n",
    "# Display Schema (PySpark)\n",
    "df_spark.printSchema()\n",
    "\n",
    "# Checking the schema (Pandas)\n",
    "print(df_pandas.dtypes)\n",
    "\n"
   ]
  },
  {
   "cell_type": "code",
   "execution_count": 11,
   "id": "922c36a1",
   "metadata": {},
   "outputs": [
    {
     "name": "stdout",
     "output_type": "stream",
     "text": [
      "Number of rows (PySpark): 8, Number of columns (PySpark): 4\n",
      "Number of rows (Pandas): 8, Number of columns (Pandas): 4\n"
     ]
    }
   ],
   "source": [
    "# Count Rows and Columns (PySpark)\n",
    "row_count_spark = df_spark.count()\n",
    "column_count_spark = len(df_spark.columns)\n",
    "print(f\"Number of rows (PySpark): {row_count_spark}, Number of columns (PySpark): {column_count_spark}\")\n",
    "\n",
    "# Count Rows and Columns (Pandas)\n",
    "row_count_pandas = df_pandas.shape[0]\n",
    "column_count_pandas = df_pandas.shape[1]\n",
    "print(f\"Number of rows (Pandas): {row_count_pandas}, Number of columns (Pandas): {column_count_pandas}\")\n"
   ]
  },
  {
   "cell_type": "code",
   "execution_count": 49,
   "id": "17a9b1bc",
   "metadata": {},
   "outputs": [
    {
     "name": "stdout",
     "output_type": "stream",
     "text": [
      "+-------+--------+------------------+--------+------------------+\n",
      "|summary|    name|               age|    city|            salary|\n",
      "+-------+--------+------------------+--------+------------------+\n",
      "|  count|       8|                 8|       8|                 8|\n",
      "|   mean|    NULL|            34.375|    NULL|           79000.0|\n",
      "| stddev|    NULL|7.3082634247620195|    NULL|10392.304845413262|\n",
      "|    min|   Alice|                23| Chicago|             65000|\n",
      "|    max|John Doe|                45|New York|             95000|\n",
      "+-------+--------+------------------+--------+------------------+\n",
      "\n"
     ]
    },
    {
     "data": {
      "text/html": [
       "<div>\n",
       "<style scoped>\n",
       "    .dataframe tbody tr th:only-of-type {\n",
       "        vertical-align: middle;\n",
       "    }\n",
       "\n",
       "    .dataframe tbody tr th {\n",
       "        vertical-align: top;\n",
       "    }\n",
       "\n",
       "    .dataframe thead th {\n",
       "        text-align: right;\n",
       "    }\n",
       "</style>\n",
       "<table border=\"1\" class=\"dataframe\">\n",
       "  <thead>\n",
       "    <tr style=\"text-align: right;\">\n",
       "      <th></th>\n",
       "      <th>age</th>\n",
       "      <th>salary</th>\n",
       "    </tr>\n",
       "  </thead>\n",
       "  <tbody>\n",
       "    <tr>\n",
       "      <th>count</th>\n",
       "      <td>8.000000</td>\n",
       "      <td>8.000000</td>\n",
       "    </tr>\n",
       "    <tr>\n",
       "      <th>mean</th>\n",
       "      <td>34.375000</td>\n",
       "      <td>79000.000000</td>\n",
       "    </tr>\n",
       "    <tr>\n",
       "      <th>std</th>\n",
       "      <td>7.308263</td>\n",
       "      <td>10392.304845</td>\n",
       "    </tr>\n",
       "    <tr>\n",
       "      <th>min</th>\n",
       "      <td>23.000000</td>\n",
       "      <td>65000.000000</td>\n",
       "    </tr>\n",
       "    <tr>\n",
       "      <th>25%</th>\n",
       "      <td>29.500000</td>\n",
       "      <td>71500.000000</td>\n",
       "    </tr>\n",
       "    <tr>\n",
       "      <th>50%</th>\n",
       "      <td>34.500000</td>\n",
       "      <td>77500.000000</td>\n",
       "    </tr>\n",
       "    <tr>\n",
       "      <th>75%</th>\n",
       "      <td>39.000000</td>\n",
       "      <td>86250.000000</td>\n",
       "    </tr>\n",
       "    <tr>\n",
       "      <th>max</th>\n",
       "      <td>45.000000</td>\n",
       "      <td>95000.000000</td>\n",
       "    </tr>\n",
       "  </tbody>\n",
       "</table>\n",
       "</div>"
      ],
      "text/plain": [
       "             age        salary\n",
       "count   8.000000      8.000000\n",
       "mean   34.375000  79000.000000\n",
       "std     7.308263  10392.304845\n",
       "min    23.000000  65000.000000\n",
       "25%    29.500000  71500.000000\n",
       "50%    34.500000  77500.000000\n",
       "75%    39.000000  86250.000000\n",
       "max    45.000000  95000.000000"
      ]
     },
     "metadata": {},
     "output_type": "display_data"
    }
   ],
   "source": [
    "# Summary Statistics (PySpark)\n",
    "df_spark.describe().show()\n",
    "\n",
    "# Summary Statistics (Pandas)\n",
    "display(df_pandas.describe())\n"
   ]
  },
  {
   "cell_type": "markdown",
   "id": "0df17313",
   "metadata": {},
   "source": [
    "\n",
    "# 2. Data Cleaning\n"
   ]
  },
  {
   "cell_type": "code",
   "execution_count": 17,
   "id": "4ad13ae2",
   "metadata": {},
   "outputs": [
    {
     "name": "stdout",
     "output_type": "stream",
     "text": [
      "+--------+---+-----------+------+\n",
      "|    name|age|       city|salary|\n",
      "+--------+---+-----------+------+\n",
      "|John Doe| 28|   New York| 70000|\n",
      "|Jane Doe| 34|Los Angeles| 80000|\n",
      "|   Alice| 23|    Chicago| 65000|\n",
      "|     Bob| 45|   New York| 90000|\n",
      "| Charlie| 35|    Chicago| 75000|\n",
      "|   David| 38|Los Angeles| 85000|\n",
      "|  Edward| 42|   New York| 95000|\n",
      "|   Fiona| 30|    Chicago| 72000|\n",
      "+--------+---+-----------+------+\n",
      "\n",
      "Pyspark Cleaned Data :  None\n"
     ]
    },
    {
     "data": {
      "text/html": [
       "<div>\n",
       "<style scoped>\n",
       "    .dataframe tbody tr th:only-of-type {\n",
       "        vertical-align: middle;\n",
       "    }\n",
       "\n",
       "    .dataframe tbody tr th {\n",
       "        vertical-align: top;\n",
       "    }\n",
       "\n",
       "    .dataframe thead th {\n",
       "        text-align: right;\n",
       "    }\n",
       "</style>\n",
       "<table border=\"1\" class=\"dataframe\">\n",
       "  <thead>\n",
       "    <tr style=\"text-align: right;\">\n",
       "      <th></th>\n",
       "      <th>name</th>\n",
       "      <th>age</th>\n",
       "      <th>city</th>\n",
       "      <th>salary</th>\n",
       "    </tr>\n",
       "  </thead>\n",
       "  <tbody>\n",
       "    <tr>\n",
       "      <th>0</th>\n",
       "      <td>John Doe</td>\n",
       "      <td>28</td>\n",
       "      <td>New York</td>\n",
       "      <td>70000</td>\n",
       "    </tr>\n",
       "    <tr>\n",
       "      <th>1</th>\n",
       "      <td>Jane Doe</td>\n",
       "      <td>34</td>\n",
       "      <td>Los Angeles</td>\n",
       "      <td>80000</td>\n",
       "    </tr>\n",
       "    <tr>\n",
       "      <th>2</th>\n",
       "      <td>Alice</td>\n",
       "      <td>23</td>\n",
       "      <td>Chicago</td>\n",
       "      <td>65000</td>\n",
       "    </tr>\n",
       "    <tr>\n",
       "      <th>3</th>\n",
       "      <td>Bob</td>\n",
       "      <td>45</td>\n",
       "      <td>New York</td>\n",
       "      <td>90000</td>\n",
       "    </tr>\n",
       "    <tr>\n",
       "      <th>4</th>\n",
       "      <td>Charlie</td>\n",
       "      <td>35</td>\n",
       "      <td>Chicago</td>\n",
       "      <td>75000</td>\n",
       "    </tr>\n",
       "    <tr>\n",
       "      <th>5</th>\n",
       "      <td>David</td>\n",
       "      <td>38</td>\n",
       "      <td>Los Angeles</td>\n",
       "      <td>85000</td>\n",
       "    </tr>\n",
       "    <tr>\n",
       "      <th>6</th>\n",
       "      <td>Edward</td>\n",
       "      <td>42</td>\n",
       "      <td>New York</td>\n",
       "      <td>95000</td>\n",
       "    </tr>\n",
       "    <tr>\n",
       "      <th>7</th>\n",
       "      <td>Fiona</td>\n",
       "      <td>30</td>\n",
       "      <td>Chicago</td>\n",
       "      <td>72000</td>\n",
       "    </tr>\n",
       "  </tbody>\n",
       "</table>\n",
       "</div>"
      ],
      "text/plain": [
       "       name  age         city  salary\n",
       "0  John Doe   28     New York   70000\n",
       "1  Jane Doe   34  Los Angeles   80000\n",
       "2     Alice   23      Chicago   65000\n",
       "3       Bob   45     New York   90000\n",
       "4   Charlie   35      Chicago   75000\n",
       "5     David   38  Los Angeles   85000\n",
       "6    Edward   42     New York   95000\n",
       "7     Fiona   30      Chicago   72000"
      ]
     },
     "metadata": {},
     "output_type": "display_data"
    },
    {
     "name": "stdout",
     "output_type": "stream",
     "text": [
      "Pyspark Cleaned Data :  None\n"
     ]
    }
   ],
   "source": [
    "\n",
    "# Dropping rows with excessive missing data (PySpark)\n",
    "df_cleaned_spark = df_spark.dropna(thresh=int(0.5 * len(df_spark.columns)))\n",
    "\n",
    "# Dropping rows with excessive missing data (Pandas)\n",
    "df_cleaned_pandas = df_pandas.dropna(thresh=int(0.5 * len(df_pandas.columns)))\n",
    "\n",
    "print(\"Pyspark Cleaned Data : \",df_cleaned_spark.show())\n",
    "print(\"Pyspark Cleaned Data : \",display(df_cleaned_pandas))"
   ]
  },
  {
   "cell_type": "code",
   "execution_count": 33,
   "id": "c0b850ac",
   "metadata": {},
   "outputs": [
    {
     "name": "stdout",
     "output_type": "stream",
     "text": [
      "+--------+---+-----------+------+\n",
      "|    name|age|       city|salary|\n",
      "+--------+---+-----------+------+\n",
      "|John Doe| 28|   New York| 70000|\n",
      "|Jane Doe| 34|Los Angeles| 80000|\n",
      "|   Alice| 23|    Chicago| 65000|\n",
      "|     Bob| 45|   New York| 90000|\n",
      "| Charlie| 35|    Chicago| 75000|\n",
      "|   David| 38|Los Angeles| 85000|\n",
      "|  Edward| 42|   New York| 95000|\n",
      "|   Fiona| 30|    Chicago| 72000|\n",
      "+--------+---+-----------+------+\n",
      "\n",
      "Pyspark:  None\n"
     ]
    },
    {
     "name": "stderr",
     "output_type": "stream",
     "text": [
      "/tmp/ipykernel_4763/1282320103.py:26: FutureWarning: A value is trying to be set on a copy of a DataFrame or Series through chained assignment using an inplace method.\n",
      "The behavior will change in pandas 3.0. This inplace method will never work because the intermediate object on which we are setting values always behaves as a copy.\n",
      "\n",
      "For example, when doing 'df[col].method(value, inplace=True)', try using 'df.method({col: value}, inplace=True)' or df[col] = df[col].method(value) instead, to perform the operation inplace on the original object.\n",
      "\n",
      "\n",
      "  df_cleaned_pandas[column].fillna(df_cleaned_pandas[column].mode()[0], inplace=True)\n"
     ]
    },
    {
     "data": {
      "text/html": [
       "<div>\n",
       "<style scoped>\n",
       "    .dataframe tbody tr th:only-of-type {\n",
       "        vertical-align: middle;\n",
       "    }\n",
       "\n",
       "    .dataframe tbody tr th {\n",
       "        vertical-align: top;\n",
       "    }\n",
       "\n",
       "    .dataframe thead th {\n",
       "        text-align: right;\n",
       "    }\n",
       "</style>\n",
       "<table border=\"1\" class=\"dataframe\">\n",
       "  <thead>\n",
       "    <tr style=\"text-align: right;\">\n",
       "      <th></th>\n",
       "      <th>name</th>\n",
       "      <th>age</th>\n",
       "      <th>city</th>\n",
       "      <th>salary</th>\n",
       "    </tr>\n",
       "  </thead>\n",
       "  <tbody>\n",
       "    <tr>\n",
       "      <th>0</th>\n",
       "      <td>John Doe</td>\n",
       "      <td>28</td>\n",
       "      <td>New York</td>\n",
       "      <td>70000</td>\n",
       "    </tr>\n",
       "    <tr>\n",
       "      <th>1</th>\n",
       "      <td>Jane Doe</td>\n",
       "      <td>34</td>\n",
       "      <td>Los Angeles</td>\n",
       "      <td>80000</td>\n",
       "    </tr>\n",
       "    <tr>\n",
       "      <th>2</th>\n",
       "      <td>Alice</td>\n",
       "      <td>23</td>\n",
       "      <td>Chicago</td>\n",
       "      <td>65000</td>\n",
       "    </tr>\n",
       "    <tr>\n",
       "      <th>3</th>\n",
       "      <td>Bob</td>\n",
       "      <td>45</td>\n",
       "      <td>New York</td>\n",
       "      <td>90000</td>\n",
       "    </tr>\n",
       "    <tr>\n",
       "      <th>4</th>\n",
       "      <td>Charlie</td>\n",
       "      <td>35</td>\n",
       "      <td>Chicago</td>\n",
       "      <td>75000</td>\n",
       "    </tr>\n",
       "    <tr>\n",
       "      <th>5</th>\n",
       "      <td>David</td>\n",
       "      <td>38</td>\n",
       "      <td>Los Angeles</td>\n",
       "      <td>85000</td>\n",
       "    </tr>\n",
       "    <tr>\n",
       "      <th>6</th>\n",
       "      <td>Edward</td>\n",
       "      <td>42</td>\n",
       "      <td>New York</td>\n",
       "      <td>95000</td>\n",
       "    </tr>\n",
       "    <tr>\n",
       "      <th>7</th>\n",
       "      <td>Fiona</td>\n",
       "      <td>30</td>\n",
       "      <td>Chicago</td>\n",
       "      <td>72000</td>\n",
       "    </tr>\n",
       "  </tbody>\n",
       "</table>\n",
       "</div>"
      ],
      "text/plain": [
       "       name  age         city  salary\n",
       "0  John Doe   28     New York   70000\n",
       "1  Jane Doe   34  Los Angeles   80000\n",
       "2     Alice   23      Chicago   65000\n",
       "3       Bob   45     New York   90000\n",
       "4   Charlie   35      Chicago   75000\n",
       "5     David   38  Los Angeles   85000\n",
       "6    Edward   42     New York   95000\n",
       "7     Fiona   30      Chicago   72000"
      ]
     },
     "metadata": {},
     "output_type": "display_data"
    },
    {
     "name": "stdout",
     "output_type": "stream",
     "text": [
      "Pandas:  None\n"
     ]
    }
   ],
   "source": [
    "from pyspark.sql.functions import mean\n",
    "\n",
    "# Imputing missing values in numeric columns (PySpark)\n",
    "for col_name in df_cleaned_spark.columns:\n",
    "    # Check if the column is numeric\n",
    "    if dict(df_cleaned_spark.dtypes)[col_name] in ['int', 'double']:\n",
    "        # Calculate the mean of the column\n",
    "        mean_value = df_cleaned_spark.select(mean(col_name)).collect()[0][0]\n",
    "        # Fill missing values with the calculated mean\n",
    "        df_cleaned_spark = df_cleaned_spark.fillna({col_name: mean_value})\n",
    "print(\"Pyspark: \",df_cleaned_spark.show())\n",
    "\n",
    "# Imputing missing values in numeric columns (Pandas)\n",
    "\n",
    "# Select only numeric columns\n",
    "numeric_columns = df_cleaned_pandas.select_dtypes(include=[np.number]).columns\n",
    "\n",
    "# Impute missing values in numeric columns with the mean\n",
    "df_cleaned_pandas[numeric_columns] = df_cleaned_pandas[numeric_columns].fillna(df_cleaned_pandas[numeric_columns].mean())\n",
    "\n",
    "# For non-numeric columns, fill missing values with the mode\n",
    "non_numeric_columns = df_cleaned_pandas.select_dtypes(exclude=[np.number]).columns\n",
    "\n",
    "# Fill non-numeric columns with the most frequent value (mode)\n",
    "for column in non_numeric_columns:\n",
    "    df_cleaned_pandas[column].fillna(df_cleaned_pandas[column].mode()[0], inplace=True)\n",
    "\n",
    "print(\"Pandas: \",display(df_cleaned_pandas))\n"
   ]
  },
  {
   "cell_type": "code",
   "execution_count": 34,
   "id": "7fd2385d",
   "metadata": {},
   "outputs": [],
   "source": [
    "# Removing duplicates (PySpark)\n",
    "df_no_duplicates_spark = df_cleaned_spark.dropDuplicates()\n",
    "\n",
    "# Removing duplicates (Pandas)\n",
    "df_no_duplicates_pandas = df_cleaned_pandas.drop_duplicates()\n",
    "\n",
    "print(\"Pyspark Shape of the \")"
   ]
  },
  {
   "cell_type": "code",
   "execution_count": 35,
   "id": "8bda1b0c",
   "metadata": {},
   "outputs": [
    {
     "name": "stdout",
     "output_type": "stream",
     "text": [
      "Number of rows before removing duplicates (PySpark): 8\n",
      "Number of rows after removing duplicates (PySpark): 8\n"
     ]
    }
   ],
   "source": [
    "# Renaming Columns (PySpark)\n",
    "df_renamed_spark = df_no_duplicates_spark.withColumnRenamed(\"city\", \"location\")\n",
    "print(f\"Number of rows before removing duplicates (PySpark): {df_cleaned_spark.count()}\")\n",
    "# Renaming Columns (Pandas)\n",
    "df_renamed_pandas = df_no_duplicates_pandas.rename(columns={\"city\": \"location\"})\n",
    "print(f\"Number of rows after removing duplicates (PySpark): {df_no_duplicates_spark.count()}\")"
   ]
  },
  {
   "cell_type": "markdown",
   "id": "eafabe76",
   "metadata": {},
   "source": [
    "\n",
    "# 3. Data Transformation"
   ]
  },
  {
   "cell_type": "code",
   "execution_count": 38,
   "id": "e1269c1f",
   "metadata": {},
   "outputs": [
    {
     "name": "stdout",
     "output_type": "stream",
     "text": [
      "Pyspark: DataFrame[name: string, age: int, location: string, salary: int]\n",
      "Python: name        object\n",
      "age          int64\n",
      "location    object\n",
      "salary       int64\n",
      "dtype: object\n"
     ]
    }
   ],
   "source": [
    "# Converting columns to appropriate data types (PySpark)\n",
    "df_transformed_spark = df_renamed_spark.withColumn(\"age\", col(\"age\").cast(IntegerType()))\n",
    "print(\"Pyspark:\",df_transformed_spark)\n",
    "# Converting columns to appropriate data types (Pandas)\n",
    "df_transformed_pandas = df_renamed_pandas.astype({\"age\": int})\n",
    "print(\"Python:\",df_transformed_pandas.dtypes)\n"
   ]
  },
  {
   "cell_type": "code",
   "execution_count": 41,
   "id": "00f4082d",
   "metadata": {},
   "outputs": [
    {
     "name": "stdout",
     "output_type": "stream",
     "text": [
      "+--------+---+-----------+------+-----------+\n",
      "|    name|age|   location|salary|  age_group|\n",
      "+--------+---+-----------+------+-----------+\n",
      "|   Fiona| 30|    Chicago| 72000|Middle-aged|\n",
      "|   David| 38|Los Angeles| 85000|Middle-aged|\n",
      "|Jane Doe| 34|Los Angeles| 80000|Middle-aged|\n",
      "|John Doe| 28|   New York| 70000|      Young|\n",
      "| Charlie| 35|    Chicago| 75000|Middle-aged|\n",
      "|   Alice| 23|    Chicago| 65000|      Young|\n",
      "|     Bob| 45|   New York| 90000|     Senior|\n",
      "|  Edward| 42|   New York| 95000|     Senior|\n",
      "+--------+---+-----------+------+-----------+\n",
      "\n"
     ]
    },
    {
     "data": {
      "text/plain": [
       "None"
      ]
     },
     "metadata": {},
     "output_type": "display_data"
    },
    {
     "data": {
      "text/html": [
       "<div>\n",
       "<style scoped>\n",
       "    .dataframe tbody tr th:only-of-type {\n",
       "        vertical-align: middle;\n",
       "    }\n",
       "\n",
       "    .dataframe tbody tr th {\n",
       "        vertical-align: top;\n",
       "    }\n",
       "\n",
       "    .dataframe thead th {\n",
       "        text-align: right;\n",
       "    }\n",
       "</style>\n",
       "<table border=\"1\" class=\"dataframe\">\n",
       "  <thead>\n",
       "    <tr style=\"text-align: right;\">\n",
       "      <th></th>\n",
       "      <th>name</th>\n",
       "      <th>age</th>\n",
       "      <th>location</th>\n",
       "      <th>salary</th>\n",
       "      <th>age_group</th>\n",
       "    </tr>\n",
       "  </thead>\n",
       "  <tbody>\n",
       "    <tr>\n",
       "      <th>0</th>\n",
       "      <td>John Doe</td>\n",
       "      <td>28</td>\n",
       "      <td>New York</td>\n",
       "      <td>70000</td>\n",
       "      <td>Young</td>\n",
       "    </tr>\n",
       "    <tr>\n",
       "      <th>1</th>\n",
       "      <td>Jane Doe</td>\n",
       "      <td>34</td>\n",
       "      <td>Los Angeles</td>\n",
       "      <td>80000</td>\n",
       "      <td>Middle-aged</td>\n",
       "    </tr>\n",
       "    <tr>\n",
       "      <th>2</th>\n",
       "      <td>Alice</td>\n",
       "      <td>23</td>\n",
       "      <td>Chicago</td>\n",
       "      <td>65000</td>\n",
       "      <td>Young</td>\n",
       "    </tr>\n",
       "    <tr>\n",
       "      <th>3</th>\n",
       "      <td>Bob</td>\n",
       "      <td>45</td>\n",
       "      <td>New York</td>\n",
       "      <td>90000</td>\n",
       "      <td>Senior</td>\n",
       "    </tr>\n",
       "    <tr>\n",
       "      <th>4</th>\n",
       "      <td>Charlie</td>\n",
       "      <td>35</td>\n",
       "      <td>Chicago</td>\n",
       "      <td>75000</td>\n",
       "      <td>Middle-aged</td>\n",
       "    </tr>\n",
       "    <tr>\n",
       "      <th>5</th>\n",
       "      <td>David</td>\n",
       "      <td>38</td>\n",
       "      <td>Los Angeles</td>\n",
       "      <td>85000</td>\n",
       "      <td>Middle-aged</td>\n",
       "    </tr>\n",
       "    <tr>\n",
       "      <th>6</th>\n",
       "      <td>Edward</td>\n",
       "      <td>42</td>\n",
       "      <td>New York</td>\n",
       "      <td>95000</td>\n",
       "      <td>Senior</td>\n",
       "    </tr>\n",
       "    <tr>\n",
       "      <th>7</th>\n",
       "      <td>Fiona</td>\n",
       "      <td>30</td>\n",
       "      <td>Chicago</td>\n",
       "      <td>72000</td>\n",
       "      <td>Middle-aged</td>\n",
       "    </tr>\n",
       "  </tbody>\n",
       "</table>\n",
       "</div>"
      ],
      "text/plain": [
       "       name  age     location  salary    age_group\n",
       "0  John Doe   28     New York   70000        Young\n",
       "1  Jane Doe   34  Los Angeles   80000  Middle-aged\n",
       "2     Alice   23      Chicago   65000        Young\n",
       "3       Bob   45     New York   90000       Senior\n",
       "4   Charlie   35      Chicago   75000  Middle-aged\n",
       "5     David   38  Los Angeles   85000  Middle-aged\n",
       "6    Edward   42     New York   95000       Senior\n",
       "7     Fiona   30      Chicago   72000  Middle-aged"
      ]
     },
     "metadata": {},
     "output_type": "display_data"
    }
   ],
   "source": [
    "# Creating new columns (PySpark)\n",
    "df_transformed_spark = df_transformed_spark.withColumn(\"age_group\", \n",
    "                                                       when(col(\"age\") < 30, \"Young\")\n",
    "                                                       .when(col(\"age\") < 40, \"Middle-aged\")\n",
    "                                                       .otherwise(\"Senior\"))\n",
    "display(df_transformed_spark.show())\n",
    "# Creating new columns (Pandas)\n",
    "df_transformed_pandas['age_group'] = pd.cut(df_transformed_pandas['age'], \n",
    "                                            bins=[0, 29, 39, 100], \n",
    "                                            labels=[\"Young\", \"Middle-aged\", \"Senior\"])\n",
    "display(df_transformed_pandas)"
   ]
  },
  {
   "cell_type": "markdown",
   "id": "776767ac",
   "metadata": {},
   "source": [
    "# 4. Filtering Data"
   ]
  },
  {
   "cell_type": "code",
   "execution_count": 45,
   "id": "f5fa46d4",
   "metadata": {},
   "outputs": [
    {
     "name": "stdout",
     "output_type": "stream",
     "text": [
      "+--------+---+--------+------+---------+\n",
      "|    name|age|location|salary|age_group|\n",
      "+--------+---+--------+------+---------+\n",
      "|John Doe| 28|New York| 70000|    Young|\n",
      "+--------+---+--------+------+---------+\n",
      "\n"
     ]
    },
    {
     "data": {
      "text/html": [
       "<div>\n",
       "<style scoped>\n",
       "    .dataframe tbody tr th:only-of-type {\n",
       "        vertical-align: middle;\n",
       "    }\n",
       "\n",
       "    .dataframe tbody tr th {\n",
       "        vertical-align: top;\n",
       "    }\n",
       "\n",
       "    .dataframe thead th {\n",
       "        text-align: right;\n",
       "    }\n",
       "</style>\n",
       "<table border=\"1\" class=\"dataframe\">\n",
       "  <thead>\n",
       "    <tr style=\"text-align: right;\">\n",
       "      <th></th>\n",
       "      <th>name</th>\n",
       "      <th>age</th>\n",
       "      <th>location</th>\n",
       "      <th>salary</th>\n",
       "      <th>age_group</th>\n",
       "    </tr>\n",
       "  </thead>\n",
       "  <tbody>\n",
       "    <tr>\n",
       "      <th>0</th>\n",
       "      <td>John Doe</td>\n",
       "      <td>28</td>\n",
       "      <td>New York</td>\n",
       "      <td>70000</td>\n",
       "      <td>Young</td>\n",
       "    </tr>\n",
       "  </tbody>\n",
       "</table>\n",
       "</div>"
      ],
      "text/plain": [
       "       name  age  location  salary age_group\n",
       "0  John Doe   28  New York   70000     Young"
      ]
     },
     "metadata": {},
     "output_type": "display_data"
    }
   ],
   "source": [
    "# Exact Match Filtering (PySpark)\n",
    "filtered_spark_exact = df_transformed_spark.filter(df_transformed_spark[\"name\"] == \"John Doe\")\n",
    "filtered_spark_exact.show()\n",
    "\n",
    "# Exact Match Filtering (Pandas)\n",
    "filtered_pandas_exact = df_transformed_pandas[df_transformed_pandas[\"name\"] == \"John Doe\"]\n",
    "display(filtered_pandas_exact)\n",
    "\n"
   ]
  },
  {
   "cell_type": "code",
   "execution_count": 44,
   "id": "1fa8b20c",
   "metadata": {},
   "outputs": [
    {
     "name": "stdout",
     "output_type": "stream",
     "text": [
      "+--------+---+--------+------+---------+\n",
      "|    name|age|location|salary|age_group|\n",
      "+--------+---+--------+------+---------+\n",
      "|John Doe| 28|New York| 70000|    Young|\n",
      "+--------+---+--------+------+---------+\n",
      "\n"
     ]
    },
    {
     "data": {
      "text/html": [
       "<div>\n",
       "<style scoped>\n",
       "    .dataframe tbody tr th:only-of-type {\n",
       "        vertical-align: middle;\n",
       "    }\n",
       "\n",
       "    .dataframe tbody tr th {\n",
       "        vertical-align: top;\n",
       "    }\n",
       "\n",
       "    .dataframe thead th {\n",
       "        text-align: right;\n",
       "    }\n",
       "</style>\n",
       "<table border=\"1\" class=\"dataframe\">\n",
       "  <thead>\n",
       "    <tr style=\"text-align: right;\">\n",
       "      <th></th>\n",
       "      <th>name</th>\n",
       "      <th>age</th>\n",
       "      <th>location</th>\n",
       "      <th>salary</th>\n",
       "      <th>age_group</th>\n",
       "    </tr>\n",
       "  </thead>\n",
       "  <tbody>\n",
       "    <tr>\n",
       "      <th>0</th>\n",
       "      <td>John Doe</td>\n",
       "      <td>28</td>\n",
       "      <td>New York</td>\n",
       "      <td>70000</td>\n",
       "      <td>Young</td>\n",
       "    </tr>\n",
       "  </tbody>\n",
       "</table>\n",
       "</div>"
      ],
      "text/plain": [
       "       name  age  location  salary age_group\n",
       "0  John Doe   28  New York   70000     Young"
      ]
     },
     "metadata": {},
     "output_type": "display_data"
    }
   ],
   "source": [
    "# Partial Match Filtering (PySpark)\n",
    "filtered_spark_partial = df_transformed_spark.filter(df_transformed_spark[\"name\"].like(\"%John%\"))\n",
    "filtered_spark_partial.show()\n",
    "\n",
    "# Partial Match Filtering (Pandas)\n",
    "filtered_pandas_partial = df_transformed_pandas[df_transformed_pandas[\"name\"].str.contains(\"John\")]\n",
    "display(filtered_pandas_partial)\n",
    "\n"
   ]
  },
  {
   "cell_type": "code",
   "execution_count": 46,
   "id": "50781b00",
   "metadata": {},
   "outputs": [
    {
     "name": "stdout",
     "output_type": "stream",
     "text": [
      "+------+---+--------+------+---------+\n",
      "|  name|age|location|salary|age_group|\n",
      "+------+---+--------+------+---------+\n",
      "|   Bob| 45|New York| 90000|   Senior|\n",
      "|Edward| 42|New York| 95000|   Senior|\n",
      "+------+---+--------+------+---------+\n",
      "\n"
     ]
    },
    {
     "data": {
      "text/html": [
       "<div>\n",
       "<style scoped>\n",
       "    .dataframe tbody tr th:only-of-type {\n",
       "        vertical-align: middle;\n",
       "    }\n",
       "\n",
       "    .dataframe tbody tr th {\n",
       "        vertical-align: top;\n",
       "    }\n",
       "\n",
       "    .dataframe thead th {\n",
       "        text-align: right;\n",
       "    }\n",
       "</style>\n",
       "<table border=\"1\" class=\"dataframe\">\n",
       "  <thead>\n",
       "    <tr style=\"text-align: right;\">\n",
       "      <th></th>\n",
       "      <th>name</th>\n",
       "      <th>age</th>\n",
       "      <th>location</th>\n",
       "      <th>salary</th>\n",
       "      <th>age_group</th>\n",
       "    </tr>\n",
       "  </thead>\n",
       "  <tbody>\n",
       "    <tr>\n",
       "      <th>3</th>\n",
       "      <td>Bob</td>\n",
       "      <td>45</td>\n",
       "      <td>New York</td>\n",
       "      <td>90000</td>\n",
       "      <td>Senior</td>\n",
       "    </tr>\n",
       "    <tr>\n",
       "      <th>6</th>\n",
       "      <td>Edward</td>\n",
       "      <td>42</td>\n",
       "      <td>New York</td>\n",
       "      <td>95000</td>\n",
       "      <td>Senior</td>\n",
       "    </tr>\n",
       "  </tbody>\n",
       "</table>\n",
       "</div>"
      ],
      "text/plain": [
       "     name  age  location  salary age_group\n",
       "3     Bob   45  New York   90000    Senior\n",
       "6  Edward   42  New York   95000    Senior"
      ]
     },
     "metadata": {},
     "output_type": "display_data"
    }
   ],
   "source": [
    "# Filtering with Multiple Conditions (PySpark)\n",
    "filtered_spark_multiple = df_transformed_spark.filter((df_transformed_spark[\"age\"] > 30) & (df_transformed_spark[\"location\"] == \"New York\"))\n",
    "filtered_spark_multiple.show()\n",
    "\n",
    "# Filtering with Multiple Conditions (Pandas)\n",
    "filtered_pandas_multiple = df_transformed_pandas[(df_transformed_pandas[\"age\"] > 30) & (df_transformed_pandas[\"location\"] == \"New York\")]\n",
    "display(filtered_pandas_multiple)\n"
   ]
  },
  {
   "cell_type": "markdown",
   "id": "0204f2a7",
   "metadata": {},
   "source": [
    "# 5. Running SQL Statements in PySpark"
   ]
  },
  {
   "cell_type": "code",
   "execution_count": 47,
   "id": "5e3e3f2d",
   "metadata": {},
   "outputs": [
    {
     "name": "stdout",
     "output_type": "stream",
     "text": [
      "+--------+---+-----------+\n",
      "|    name|age|   location|\n",
      "+--------+---+-----------+\n",
      "|   David| 38|Los Angeles|\n",
      "|Jane Doe| 34|Los Angeles|\n",
      "| Charlie| 35|    Chicago|\n",
      "|     Bob| 45|   New York|\n",
      "|  Edward| 42|   New York|\n",
      "+--------+---+-----------+\n",
      "\n",
      "+-----------+-----+\n",
      "|   location|count|\n",
      "+-----------+-----+\n",
      "|Los Angeles|    2|\n",
      "|    Chicago|    3|\n",
      "|   New York|    3|\n",
      "+-----------+-----+\n",
      "\n"
     ]
    }
   ],
   "source": [
    "\n",
    "# Creating a temporary view for SQL queries\n",
    "df_transformed_spark.createOrReplaceTempView(\"people\")\n",
    "\n",
    "# Example SQL Query: Selecting specific columns\n",
    "sql_df = spark.sql(\"SELECT name, age, location FROM people WHERE age > 30\")\n",
    "sql_df.show()\n",
    "\n",
    "# Example SQL Query: Aggregation\n",
    "sql_aggregation_df = spark.sql(\"SELECT location, COUNT(*) as count FROM people GROUP BY location\")\n",
    "sql_aggregation_df.show()\n"
   ]
  }
 ],
 "metadata": {
  "language_info": {
   "name": "python"
  }
 },
 "nbformat": 4,
 "nbformat_minor": 5
}
